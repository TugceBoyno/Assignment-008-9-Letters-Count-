{
  "nbformat": 4,
  "nbformat_minor": 0,
  "metadata": {
    "colab": {
      "name": "Untitled7.ipynb",
      "provenance": [],
      "authorship_tag": "ABX9TyMiGPZ9xsFsfQHwukwVM1kC",
      "include_colab_link": true
    },
    "kernelspec": {
      "name": "python3",
      "display_name": "Python 3"
    },
    "language_info": {
      "name": "python"
    }
  },
  "cells": [
    {
      "cell_type": "markdown",
      "metadata": {
        "id": "view-in-github",
        "colab_type": "text"
      },
      "source": [
        "<a href=\"https://colab.research.google.com/github/TugceBoyno/Assignment-008-9-Letters-Count-/blob/main/Untitled7.ipynb\" target=\"_parent\"><img src=\"https://colab.research.google.com/assets/colab-badge.svg\" alt=\"Open In Colab\"/></a>"
      ]
    },
    {
      "cell_type": "code",
      "metadata": {
        "colab": {
          "base_uri": "https://localhost:8080/"
        },
        "id": "4G4ZWC4y5uCa",
        "outputId": "f780c61b-dda5-4905-ff8f-ab212437c61f"
      },
      "source": [
        "sentence = input('Please enter the word: ')\n",
        "dict1 = {}\n",
        "for x in sentence:\n",
        "   keys = dict1.keys()\n",
        "   if x in dict1:\n",
        "        dict1[x] += 1\n",
        "   else:\n",
        "        dict1[x] = 1\n",
        "print (\"Count of all characters in '{}' is :\\n \".format(sentence) +  str(dict1))"
      ],
      "execution_count": 1,
      "outputs": [
        {
          "output_type": "stream",
          "text": [
            "Please enter the word: hippo runs to us!\n",
            "Count of all characters in 'hippo runs to us!' is :\n",
            " {'h': 1, 'i': 1, 'p': 2, 'o': 2, ' ': 3, 'r': 1, 'u': 2, 'n': 1, 's': 2, 't': 1, '!': 1}\n"
          ],
          "name": "stdout"
        }
      ]
    }
  ]
}